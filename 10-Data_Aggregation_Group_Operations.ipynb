{
 "metadata": {
  "language_info": {
   "codemirror_mode": {
    "name": "ipython",
    "version": 3
   },
   "file_extension": ".py",
   "mimetype": "text/x-python",
   "name": "python",
   "nbconvert_exporter": "python",
   "pygments_lexer": "ipython3",
   "version": "3.9.0-final"
  },
  "orig_nbformat": 2,
  "kernelspec": {
   "name": "python3",
   "display_name": "Python 3.9.0 64-bit ('venv')",
   "metadata": {
    "interpreter": {
     "hash": "14b10a18af189efab5be8cf8926f658e8348fa452e950c98dfd66b8c15cdbadf"
    }
   }
  }
 },
 "nbformat": 4,
 "nbformat_minor": 2,
 "cells": [
  {
   "source": [
    "# Chapter 10: Data Aggregation and Group Operations"
   ],
   "cell_type": "markdown",
   "metadata": {}
  },
  {
   "cell_type": "code",
   "execution_count": 1,
   "metadata": {},
   "outputs": [],
   "source": [
    "import numpy as np\n",
    "import pandas as pd"
   ]
  },
  {
   "source": [
    "## 10.1 GroupBy Mechanics"
   ],
   "cell_type": "markdown",
   "metadata": {}
  },
  {
   "source": [
    "**Split-apply-combine** for describing group operations:\n",
    "\n",
    "1. Split - Data is split into groups based on one or more keys that you provide, performed an a particular axis.\n",
    "2. Apply - A function is applied to each group, producing a new value.\n",
    "3. Combine - Resultas of all functions are combined into a result object."
   ],
   "cell_type": "markdown",
   "metadata": {}
  },
  {
   "cell_type": "code",
   "execution_count": 2,
   "metadata": {},
   "outputs": [
    {
     "output_type": "execute_result",
     "data": {
      "text/plain": [
       "  key1 key2     data1     data2\n",
       "0    a  one  0.145615  0.351670\n",
       "1    a  two -0.547849  0.388579\n",
       "2    b  one -0.913499  0.417067\n",
       "3    b  two  0.604420  0.825327\n",
       "4    a  one  2.185340  0.416138"
      ],
      "text/html": "<div>\n<style scoped>\n    .dataframe tbody tr th:only-of-type {\n        vertical-align: middle;\n    }\n\n    .dataframe tbody tr th {\n        vertical-align: top;\n    }\n\n    .dataframe thead th {\n        text-align: right;\n    }\n</style>\n<table border=\"1\" class=\"dataframe\">\n  <thead>\n    <tr style=\"text-align: right;\">\n      <th></th>\n      <th>key1</th>\n      <th>key2</th>\n      <th>data1</th>\n      <th>data2</th>\n    </tr>\n  </thead>\n  <tbody>\n    <tr>\n      <th>0</th>\n      <td>a</td>\n      <td>one</td>\n      <td>0.145615</td>\n      <td>0.351670</td>\n    </tr>\n    <tr>\n      <th>1</th>\n      <td>a</td>\n      <td>two</td>\n      <td>-0.547849</td>\n      <td>0.388579</td>\n    </tr>\n    <tr>\n      <th>2</th>\n      <td>b</td>\n      <td>one</td>\n      <td>-0.913499</td>\n      <td>0.417067</td>\n    </tr>\n    <tr>\n      <th>3</th>\n      <td>b</td>\n      <td>two</td>\n      <td>0.604420</td>\n      <td>0.825327</td>\n    </tr>\n    <tr>\n      <th>4</th>\n      <td>a</td>\n      <td>one</td>\n      <td>2.185340</td>\n      <td>0.416138</td>\n    </tr>\n  </tbody>\n</table>\n</div>"
     },
     "metadata": {},
     "execution_count": 2
    }
   ],
   "source": [
    "df = pd.DataFrame({'key1': ['a', 'a', 'b', 'b', 'a'],\n",
    "                    'key2': ['one', 'two', 'one', 'two', 'one'],\n",
    "                    'data1': np.random.randn(5),\n",
    "                    'data2': np.random.rand(5)})\n",
    "df"
   ]
  },
  {
   "source": [
    "Suppose you wanted to compute the mean of the `data1` column using the labels from `key1`.\n",
    "\n",
    "Option 1: Access `data1` and call `groupby` with the column at `key1`."
   ],
   "cell_type": "markdown",
   "metadata": {}
  },
  {
   "source": [
    "grouped = df['data1'].groupby(df['key1'])\n",
    "grouped"
   ],
   "cell_type": "code",
   "metadata": {},
   "execution_count": 3,
   "outputs": [
    {
     "output_type": "execute_result",
     "data": {
      "text/plain": [
       "<pandas.core.groupby.generic.SeriesGroupBy object at 0x000001F720EDBEE0>"
      ]
     },
     "metadata": {},
     "execution_count": 3
    }
   ]
  },
  {
   "cell_type": "code",
   "execution_count": 4,
   "metadata": {},
   "outputs": [
    {
     "output_type": "execute_result",
     "data": {
      "text/plain": [
       "key1\n",
       "a    0.594369\n",
       "b   -0.154539\n",
       "Name: data1, dtype: float64"
      ]
     },
     "metadata": {},
     "execution_count": 4
    }
   ],
   "source": [
    "grouped.mean()"
   ]
  },
  {
   "source": [
    "Option 2: Instead pass multiple arrays as a list to get something different."
   ],
   "cell_type": "markdown",
   "metadata": {}
  },
  {
   "cell_type": "code",
   "execution_count": 6,
   "metadata": {},
   "outputs": [
    {
     "output_type": "execute_result",
     "data": {
      "text/plain": [
       "key1  key2\n",
       "a     one     1.165478\n",
       "      two    -0.547849\n",
       "b     one    -0.913499\n",
       "      two     0.604420\n",
       "Name: data1, dtype: float64"
      ]
     },
     "metadata": {},
     "execution_count": 6
    }
   ],
   "source": [
    "means = df['data1'].groupby([df['key1'], df['key2']]).mean()\n",
    "means"
   ]
  },
  {
   "cell_type": "code",
   "execution_count": 7,
   "metadata": {},
   "outputs": [
    {
     "output_type": "execute_result",
     "data": {
      "text/plain": [
       "key2       one       two\n",
       "key1                    \n",
       "a     1.165478 -0.547849\n",
       "b    -0.913499  0.604420"
      ],
      "text/html": "<div>\n<style scoped>\n    .dataframe tbody tr th:only-of-type {\n        vertical-align: middle;\n    }\n\n    .dataframe tbody tr th {\n        vertical-align: top;\n    }\n\n    .dataframe thead th {\n        text-align: right;\n    }\n</style>\n<table border=\"1\" class=\"dataframe\">\n  <thead>\n    <tr style=\"text-align: right;\">\n      <th>key2</th>\n      <th>one</th>\n      <th>two</th>\n    </tr>\n    <tr>\n      <th>key1</th>\n      <th></th>\n      <th></th>\n    </tr>\n  </thead>\n  <tbody>\n    <tr>\n      <th>a</th>\n      <td>1.165478</td>\n      <td>-0.547849</td>\n    </tr>\n    <tr>\n      <th>b</th>\n      <td>-0.913499</td>\n      <td>0.604420</td>\n    </tr>\n  </tbody>\n</table>\n</div>"
     },
     "metadata": {},
     "execution_count": 7
    }
   ],
   "source": [
    "means.unstack()"
   ]
  },
  {
   "source": [
    "In thise example, the group keys are all Series."
   ],
   "cell_type": "markdown",
   "metadata": {}
  },
  {
   "cell_type": "code",
   "execution_count": 8,
   "metadata": {},
   "outputs": [
    {
     "output_type": "execute_result",
     "data": {
      "text/plain": [
       "California  2005   -0.547849\n",
       "            2006   -0.913499\n",
       "Ohio        2005    0.375018\n",
       "            2006    2.185340\n",
       "Name: data1, dtype: float64"
      ]
     },
     "metadata": {},
     "execution_count": 8
    }
   ],
   "source": [
    "states = np.array(['Ohio', 'California', 'California', 'Ohio', 'Ohio'])\n",
    "years = np.array([2005, 2005, 2006, 2005, 2006])\n",
    "\n",
    "df['data1'].groupby([states, years]).mean()"
   ]
  },
  {
   "source": [
    "Often times the grouping information is found in the same DataFrame so just pass column names as the group keys."
   ],
   "cell_type": "markdown",
   "metadata": {}
  },
  {
   "source": [
    "df.groupby('key1').mean()"
   ],
   "cell_type": "code",
   "metadata": {},
   "execution_count": 9,
   "outputs": [
    {
     "output_type": "execute_result",
     "data": {
      "text/plain": [
       "         data1     data2\n",
       "key1                    \n",
       "a     0.594369  0.385462\n",
       "b    -0.154539  0.621197"
      ],
      "text/html": "<div>\n<style scoped>\n    .dataframe tbody tr th:only-of-type {\n        vertical-align: middle;\n    }\n\n    .dataframe tbody tr th {\n        vertical-align: top;\n    }\n\n    .dataframe thead th {\n        text-align: right;\n    }\n</style>\n<table border=\"1\" class=\"dataframe\">\n  <thead>\n    <tr style=\"text-align: right;\">\n      <th></th>\n      <th>data1</th>\n      <th>data2</th>\n    </tr>\n    <tr>\n      <th>key1</th>\n      <th></th>\n      <th></th>\n    </tr>\n  </thead>\n  <tbody>\n    <tr>\n      <th>a</th>\n      <td>0.594369</td>\n      <td>0.385462</td>\n    </tr>\n    <tr>\n      <th>b</th>\n      <td>-0.154539</td>\n      <td>0.621197</td>\n    </tr>\n  </tbody>\n</table>\n</div>"
     },
     "metadata": {},
     "execution_count": 9
    }
   ]
  },
  {
   "source": [
    "> Note: `df['key2']` is not numeric data, a *nuisance column*, which is excluded from the result."
   ],
   "cell_type": "markdown",
   "metadata": {}
  },
  {
   "cell_type": "code",
   "execution_count": 10,
   "metadata": {},
   "outputs": [
    {
     "output_type": "execute_result",
     "data": {
      "text/plain": [
       "              data1     data2\n",
       "key1 key2                    \n",
       "a    one   1.165478  0.383904\n",
       "     two  -0.547849  0.388579\n",
       "b    one  -0.913499  0.417067\n",
       "     two   0.604420  0.825327"
      ],
      "text/html": "<div>\n<style scoped>\n    .dataframe tbody tr th:only-of-type {\n        vertical-align: middle;\n    }\n\n    .dataframe tbody tr th {\n        vertical-align: top;\n    }\n\n    .dataframe thead th {\n        text-align: right;\n    }\n</style>\n<table border=\"1\" class=\"dataframe\">\n  <thead>\n    <tr style=\"text-align: right;\">\n      <th></th>\n      <th></th>\n      <th>data1</th>\n      <th>data2</th>\n    </tr>\n    <tr>\n      <th>key1</th>\n      <th>key2</th>\n      <th></th>\n      <th></th>\n    </tr>\n  </thead>\n  <tbody>\n    <tr>\n      <th rowspan=\"2\" valign=\"top\">a</th>\n      <th>one</th>\n      <td>1.165478</td>\n      <td>0.383904</td>\n    </tr>\n    <tr>\n      <th>two</th>\n      <td>-0.547849</td>\n      <td>0.388579</td>\n    </tr>\n    <tr>\n      <th rowspan=\"2\" valign=\"top\">b</th>\n      <th>one</th>\n      <td>-0.913499</td>\n      <td>0.417067</td>\n    </tr>\n    <tr>\n      <th>two</th>\n      <td>0.604420</td>\n      <td>0.825327</td>\n    </tr>\n  </tbody>\n</table>\n</div>"
     },
     "metadata": {},
     "execution_count": 10
    }
   ],
   "source": [
    "df.groupby(['key1', 'key2']).mean()"
   ]
  },
  {
   "source": [
    "A generally useful GroupBy method is `size`, which returns a Series containing group sizes."
   ],
   "cell_type": "markdown",
   "metadata": {}
  },
  {
   "cell_type": "code",
   "execution_count": 11,
   "metadata": {},
   "outputs": [
    {
     "output_type": "execute_result",
     "data": {
      "text/plain": [
       "key1  key2\n",
       "a     one     2\n",
       "      two     1\n",
       "b     one     1\n",
       "      two     1\n",
       "dtype: int64"
      ]
     },
     "metadata": {},
     "execution_count": 11
    }
   ],
   "source": [
    "df.groupby(['key1', 'key2']).size()"
   ]
  },
  {
   "source": [
    "### 10.1.1 Iterating Over Groups"
   ],
   "cell_type": "markdown",
   "metadata": {}
  },
  {
   "source": [
    "The GroupBy object supports iteration, generating a sequence of 2-tuples."
   ],
   "cell_type": "markdown",
   "metadata": {}
  },
  {
   "cell_type": "code",
   "execution_count": 12,
   "metadata": {},
   "outputs": [
    {
     "output_type": "stream",
     "name": "stdout",
     "text": [
      "a\n  key1 key2     data1     data2\n0    a  one  0.145615  0.351670\n1    a  two -0.547849  0.388579\n4    a  one  2.185340  0.416138\nb\n  key1 key2     data1     data2\n2    b  one -0.913499  0.417067\n3    b  two  0.604420  0.825327\n"
     ]
    }
   ],
   "source": [
    "for name, group in df.groupby('key1'):\n",
    "    print(name)\n",
    "    print(group)"
   ]
  },
  {
   "cell_type": "code",
   "execution_count": 13,
   "metadata": {},
   "outputs": [
    {
     "output_type": "stream",
     "name": "stdout",
     "text": [
      "('a', 'one')\n  key1 key2     data1     data2\n0    a  one  0.145615  0.351670\n4    a  one  2.185340  0.416138\n('a', 'two')\n  key1 key2     data1     data2\n1    a  two -0.547849  0.388579\n('b', 'one')\n  key1 key2     data1     data2\n2    b  one -0.913499  0.417067\n('b', 'two')\n  key1 key2    data1     data2\n3    b  two  0.60442  0.825327\n"
     ]
    }
   ],
   "source": [
    "for (k1, k2), group in df.groupby(['key1', 'key2']):\n",
    "    print((k1, k2))\n",
    "    print(group)"
   ]
  },
  {
   "source": [
    "A useful recipe is computing a dict of the data pieces as a one-liner."
   ],
   "cell_type": "markdown",
   "metadata": {}
  },
  {
   "cell_type": "code",
   "execution_count": 14,
   "metadata": {},
   "outputs": [
    {
     "output_type": "execute_result",
     "data": {
      "text/plain": [
       "  key1 key2     data1     data2\n",
       "2    b  one -0.913499  0.417067\n",
       "3    b  two  0.604420  0.825327"
      ],
      "text/html": "<div>\n<style scoped>\n    .dataframe tbody tr th:only-of-type {\n        vertical-align: middle;\n    }\n\n    .dataframe tbody tr th {\n        vertical-align: top;\n    }\n\n    .dataframe thead th {\n        text-align: right;\n    }\n</style>\n<table border=\"1\" class=\"dataframe\">\n  <thead>\n    <tr style=\"text-align: right;\">\n      <th></th>\n      <th>key1</th>\n      <th>key2</th>\n      <th>data1</th>\n      <th>data2</th>\n    </tr>\n  </thead>\n  <tbody>\n    <tr>\n      <th>2</th>\n      <td>b</td>\n      <td>one</td>\n      <td>-0.913499</td>\n      <td>0.417067</td>\n    </tr>\n    <tr>\n      <th>3</th>\n      <td>b</td>\n      <td>two</td>\n      <td>0.604420</td>\n      <td>0.825327</td>\n    </tr>\n  </tbody>\n</table>\n</div>"
     },
     "metadata": {},
     "execution_count": 14
    }
   ],
   "source": [
    "pieces = dict(list(df.groupby('key1')))\n",
    "pieces['b']"
   ]
  },
  {
   "source": [
    "By default, `groupby` groups on `axis=0`, but can group on any axis."
   ],
   "cell_type": "markdown",
   "metadata": {}
  },
  {
   "cell_type": "code",
   "execution_count": 15,
   "metadata": {},
   "outputs": [
    {
     "output_type": "execute_result",
     "data": {
      "text/plain": [
       "key1      object\n",
       "key2      object\n",
       "data1    float64\n",
       "data2    float64\n",
       "dtype: object"
      ]
     },
     "metadata": {},
     "execution_count": 15
    }
   ],
   "source": [
    "df.dtypes"
   ]
  },
  {
   "cell_type": "code",
   "execution_count": 17,
   "metadata": {},
   "outputs": [
    {
     "output_type": "stream",
     "name": "stdout",
     "text": [
      "float64\n      data1     data2\n0  0.145615  0.351670\n1 -0.547849  0.388579\n2 -0.913499  0.417067\n3  0.604420  0.825327\n4  2.185340  0.416138\nobject\n  key1 key2\n0    a  one\n1    a  two\n2    b  one\n3    b  two\n4    a  one\n"
     ]
    }
   ],
   "source": [
    "grouped = df.groupby(df.dtypes, axis=1)\n",
    "\n",
    "for dtype, group in grouped:\n",
    "    print(dtype)\n",
    "    print(group)"
   ]
  },
  {
   "source": [
    "### 10.1.2 Selecting a Column or Subset of Columns"
   ],
   "cell_type": "markdown",
   "metadata": {}
  },
  {
   "source": [
    "Indexing a GroupBy object created from a DataFrame with a column name or array of column names has the effect of column subsetting for aggregation.\n",
    "\n",
    "    df.groupby('key1')['data1']\n",
    "    df.groupby('key1')[['data2']]\n",
    "\n",
    "is the same as:\n",
    "\n",
    "    df['data1'].groupby(df['key1'])\n",
    "    df[['data2']].groupby(df['key1'])\n",
    "\n",
    "As an example, to compute means for just `data2` column."
   ],
   "cell_type": "markdown",
   "metadata": {}
  },
  {
   "cell_type": "code",
   "execution_count": 18,
   "metadata": {},
   "outputs": [
    {
     "output_type": "execute_result",
     "data": {
      "text/plain": [
       "              data2\n",
       "key1 key2          \n",
       "a    one   0.383904\n",
       "     two   0.388579\n",
       "b    one   0.417067\n",
       "     two   0.825327"
      ],
      "text/html": "<div>\n<style scoped>\n    .dataframe tbody tr th:only-of-type {\n        vertical-align: middle;\n    }\n\n    .dataframe tbody tr th {\n        vertical-align: top;\n    }\n\n    .dataframe thead th {\n        text-align: right;\n    }\n</style>\n<table border=\"1\" class=\"dataframe\">\n  <thead>\n    <tr style=\"text-align: right;\">\n      <th></th>\n      <th></th>\n      <th>data2</th>\n    </tr>\n    <tr>\n      <th>key1</th>\n      <th>key2</th>\n      <th></th>\n    </tr>\n  </thead>\n  <tbody>\n    <tr>\n      <th rowspan=\"2\" valign=\"top\">a</th>\n      <th>one</th>\n      <td>0.383904</td>\n    </tr>\n    <tr>\n      <th>two</th>\n      <td>0.388579</td>\n    </tr>\n    <tr>\n      <th rowspan=\"2\" valign=\"top\">b</th>\n      <th>one</th>\n      <td>0.417067</td>\n    </tr>\n    <tr>\n      <th>two</th>\n      <td>0.825327</td>\n    </tr>\n  </tbody>\n</table>\n</div>"
     },
     "metadata": {},
     "execution_count": 18
    }
   ],
   "source": [
    "df.groupby(['key1', 'key2'])[['data2']].mean()"
   ]
  },
  {
   "cell_type": "code",
   "execution_count": 19,
   "metadata": {},
   "outputs": [
    {
     "output_type": "execute_result",
     "data": {
      "text/plain": [
       "<pandas.core.groupby.generic.SeriesGroupBy object at 0x000001F71F7015B0>"
      ]
     },
     "metadata": {},
     "execution_count": 19
    }
   ],
   "source": [
    "s_grouped = df.groupby(['key1', 'key2'])['data2']\n",
    "s_grouped"
   ]
  },
  {
   "cell_type": "code",
   "execution_count": 20,
   "metadata": {},
   "outputs": [
    {
     "output_type": "execute_result",
     "data": {
      "text/plain": [
       "key1  key2\n",
       "a     one     0.383904\n",
       "      two     0.388579\n",
       "b     one     0.417067\n",
       "      two     0.825327\n",
       "Name: data2, dtype: float64"
      ]
     },
     "metadata": {},
     "execution_count": 20
    }
   ],
   "source": [
    "s_grouped.mean()"
   ]
  },
  {
   "source": [
    "### 10.1.3 Grouping with Dicts and Series"
   ],
   "cell_type": "markdown",
   "metadata": {}
  },
  {
   "cell_type": "code",
   "execution_count": 21,
   "metadata": {},
   "outputs": [
    {
     "output_type": "execute_result",
     "data": {
      "text/plain": [
       "               a         b         c         d         e\n",
       "Joe     0.660532  0.290632 -1.237698 -1.030799 -1.225588\n",
       "Steve  -0.603260 -1.056425 -0.772950 -0.860758  0.144331\n",
       "Wes    -0.607245       NaN       NaN -1.586719  1.457611\n",
       "Jim     1.848431  0.183814 -1.303743  1.539212  0.290445\n",
       "Travis  1.414039  0.994386 -0.827250 -0.499318  0.236633"
      ],
      "text/html": "<div>\n<style scoped>\n    .dataframe tbody tr th:only-of-type {\n        vertical-align: middle;\n    }\n\n    .dataframe tbody tr th {\n        vertical-align: top;\n    }\n\n    .dataframe thead th {\n        text-align: right;\n    }\n</style>\n<table border=\"1\" class=\"dataframe\">\n  <thead>\n    <tr style=\"text-align: right;\">\n      <th></th>\n      <th>a</th>\n      <th>b</th>\n      <th>c</th>\n      <th>d</th>\n      <th>e</th>\n    </tr>\n  </thead>\n  <tbody>\n    <tr>\n      <th>Joe</th>\n      <td>0.660532</td>\n      <td>0.290632</td>\n      <td>-1.237698</td>\n      <td>-1.030799</td>\n      <td>-1.225588</td>\n    </tr>\n    <tr>\n      <th>Steve</th>\n      <td>-0.603260</td>\n      <td>-1.056425</td>\n      <td>-0.772950</td>\n      <td>-0.860758</td>\n      <td>0.144331</td>\n    </tr>\n    <tr>\n      <th>Wes</th>\n      <td>-0.607245</td>\n      <td>NaN</td>\n      <td>NaN</td>\n      <td>-1.586719</td>\n      <td>1.457611</td>\n    </tr>\n    <tr>\n      <th>Jim</th>\n      <td>1.848431</td>\n      <td>0.183814</td>\n      <td>-1.303743</td>\n      <td>1.539212</td>\n      <td>0.290445</td>\n    </tr>\n    <tr>\n      <th>Travis</th>\n      <td>1.414039</td>\n      <td>0.994386</td>\n      <td>-0.827250</td>\n      <td>-0.499318</td>\n      <td>0.236633</td>\n    </tr>\n  </tbody>\n</table>\n</div>"
     },
     "metadata": {},
     "execution_count": 21
    }
   ],
   "source": [
    "people = pd.DataFrame(np.random.randn(5, 5),\n",
    "                        columns=['a', 'b', 'c', 'd', 'e'],\n",
    "                        index=['Joe', 'Steve', 'Wes', 'Jim', 'Travis'])\n",
    "people.iloc[2:3, [1, 2]] = np.nan # Add a few NA values\n",
    "people"
   ]
  },
  {
   "source": [
    "Now suppose I want to sum together the columns by group."
   ],
   "cell_type": "markdown",
   "metadata": {}
  },
  {
   "cell_type": "code",
   "execution_count": 22,
   "metadata": {},
   "outputs": [
    {
     "output_type": "execute_result",
     "data": {
      "text/plain": [
       "            blue       red\n",
       "Joe    -2.268498 -0.274423\n",
       "Steve  -1.633709 -1.515354\n",
       "Wes    -1.586719  0.850367\n",
       "Jim     0.235469  2.322691\n",
       "Travis -1.326568  2.645058"
      ],
      "text/html": "<div>\n<style scoped>\n    .dataframe tbody tr th:only-of-type {\n        vertical-align: middle;\n    }\n\n    .dataframe tbody tr th {\n        vertical-align: top;\n    }\n\n    .dataframe thead th {\n        text-align: right;\n    }\n</style>\n<table border=\"1\" class=\"dataframe\">\n  <thead>\n    <tr style=\"text-align: right;\">\n      <th></th>\n      <th>blue</th>\n      <th>red</th>\n    </tr>\n  </thead>\n  <tbody>\n    <tr>\n      <th>Joe</th>\n      <td>-2.268498</td>\n      <td>-0.274423</td>\n    </tr>\n    <tr>\n      <th>Steve</th>\n      <td>-1.633709</td>\n      <td>-1.515354</td>\n    </tr>\n    <tr>\n      <th>Wes</th>\n      <td>-1.586719</td>\n      <td>0.850367</td>\n    </tr>\n    <tr>\n      <th>Jim</th>\n      <td>0.235469</td>\n      <td>2.322691</td>\n    </tr>\n    <tr>\n      <th>Travis</th>\n      <td>-1.326568</td>\n      <td>2.645058</td>\n    </tr>\n  </tbody>\n</table>\n</div>"
     },
     "metadata": {},
     "execution_count": 22
    }
   ],
   "source": [
    "mapping = {'a': 'red', 'b': 'red', 'c': 'blue',\n",
    "            'd': 'blue', 'e': 'red', 'f': 'orange'} # key 'f' is unused and okay\n",
    "\n",
    "by_column = people.groupby(mapping, axis=1)\n",
    "by_column.sum()"
   ]
  },
  {
   "cell_type": "code",
   "execution_count": 23,
   "metadata": {},
   "outputs": [
    {
     "output_type": "execute_result",
     "data": {
      "text/plain": [
       "a       red\n",
       "b       red\n",
       "c      blue\n",
       "d      blue\n",
       "e       red\n",
       "f    orange\n",
       "dtype: object"
      ]
     },
     "metadata": {},
     "execution_count": 23
    }
   ],
   "source": [
    "map_series = pd.Series(mapping)\n",
    "map_series"
   ]
  },
  {
   "cell_type": "code",
   "execution_count": 24,
   "metadata": {},
   "outputs": [
    {
     "output_type": "execute_result",
     "data": {
      "text/plain": [
       "        blue  red\n",
       "Joe        2    3\n",
       "Steve      2    3\n",
       "Wes        1    2\n",
       "Jim        2    3\n",
       "Travis     2    3"
      ],
      "text/html": "<div>\n<style scoped>\n    .dataframe tbody tr th:only-of-type {\n        vertical-align: middle;\n    }\n\n    .dataframe tbody tr th {\n        vertical-align: top;\n    }\n\n    .dataframe thead th {\n        text-align: right;\n    }\n</style>\n<table border=\"1\" class=\"dataframe\">\n  <thead>\n    <tr style=\"text-align: right;\">\n      <th></th>\n      <th>blue</th>\n      <th>red</th>\n    </tr>\n  </thead>\n  <tbody>\n    <tr>\n      <th>Joe</th>\n      <td>2</td>\n      <td>3</td>\n    </tr>\n    <tr>\n      <th>Steve</th>\n      <td>2</td>\n      <td>3</td>\n    </tr>\n    <tr>\n      <th>Wes</th>\n      <td>1</td>\n      <td>2</td>\n    </tr>\n    <tr>\n      <th>Jim</th>\n      <td>2</td>\n      <td>3</td>\n    </tr>\n    <tr>\n      <th>Travis</th>\n      <td>2</td>\n      <td>3</td>\n    </tr>\n  </tbody>\n</table>\n</div>"
     },
     "metadata": {},
     "execution_count": 24
    }
   ],
   "source": [
    "people.groupby(map_series, axis=1).count()"
   ]
  },
  {
   "source": [
    "### 10.1.4 Grouping with Functions"
   ],
   "cell_type": "markdown",
   "metadata": {}
  },
  {
   "source": [
    "Suppose you wanted to group by length of the names; pass the `len` function."
   ],
   "cell_type": "markdown",
   "metadata": {}
  },
  {
   "cell_type": "code",
   "execution_count": 25,
   "metadata": {},
   "outputs": [
    {
     "output_type": "execute_result",
     "data": {
      "text/plain": [
       "          a         b         c         d         e\n",
       "3  1.901719  0.474447 -2.541441 -1.078306  0.522469\n",
       "5 -0.603260 -1.056425 -0.772950 -0.860758  0.144331\n",
       "6  1.414039  0.994386 -0.827250 -0.499318  0.236633"
      ],
      "text/html": "<div>\n<style scoped>\n    .dataframe tbody tr th:only-of-type {\n        vertical-align: middle;\n    }\n\n    .dataframe tbody tr th {\n        vertical-align: top;\n    }\n\n    .dataframe thead th {\n        text-align: right;\n    }\n</style>\n<table border=\"1\" class=\"dataframe\">\n  <thead>\n    <tr style=\"text-align: right;\">\n      <th></th>\n      <th>a</th>\n      <th>b</th>\n      <th>c</th>\n      <th>d</th>\n      <th>e</th>\n    </tr>\n  </thead>\n  <tbody>\n    <tr>\n      <th>3</th>\n      <td>1.901719</td>\n      <td>0.474447</td>\n      <td>-2.541441</td>\n      <td>-1.078306</td>\n      <td>0.522469</td>\n    </tr>\n    <tr>\n      <th>5</th>\n      <td>-0.603260</td>\n      <td>-1.056425</td>\n      <td>-0.772950</td>\n      <td>-0.860758</td>\n      <td>0.144331</td>\n    </tr>\n    <tr>\n      <th>6</th>\n      <td>1.414039</td>\n      <td>0.994386</td>\n      <td>-0.827250</td>\n      <td>-0.499318</td>\n      <td>0.236633</td>\n    </tr>\n  </tbody>\n</table>\n</div>"
     },
     "metadata": {},
     "execution_count": 25
    }
   ],
   "source": [
    "people.groupby(len).sum()"
   ]
  },
  {
   "source": [
    "Mixing functions with arrays, dicts, or Series is okay -> converted to arrays internally."
   ],
   "cell_type": "markdown",
   "metadata": {}
  },
  {
   "cell_type": "code",
   "execution_count": 26,
   "metadata": {},
   "outputs": [
    {
     "output_type": "execute_result",
     "data": {
      "text/plain": [
       "              a         b         c         d         e\n",
       "3 one -0.607245  0.290632 -1.237698 -1.586719 -1.225588\n",
       "  two  1.848431  0.183814 -1.303743  1.539212  0.290445\n",
       "5 one -0.603260 -1.056425 -0.772950 -0.860758  0.144331\n",
       "6 two  1.414039  0.994386 -0.827250 -0.499318  0.236633"
      ],
      "text/html": "<div>\n<style scoped>\n    .dataframe tbody tr th:only-of-type {\n        vertical-align: middle;\n    }\n\n    .dataframe tbody tr th {\n        vertical-align: top;\n    }\n\n    .dataframe thead th {\n        text-align: right;\n    }\n</style>\n<table border=\"1\" class=\"dataframe\">\n  <thead>\n    <tr style=\"text-align: right;\">\n      <th></th>\n      <th></th>\n      <th>a</th>\n      <th>b</th>\n      <th>c</th>\n      <th>d</th>\n      <th>e</th>\n    </tr>\n  </thead>\n  <tbody>\n    <tr>\n      <th rowspan=\"2\" valign=\"top\">3</th>\n      <th>one</th>\n      <td>-0.607245</td>\n      <td>0.290632</td>\n      <td>-1.237698</td>\n      <td>-1.586719</td>\n      <td>-1.225588</td>\n    </tr>\n    <tr>\n      <th>two</th>\n      <td>1.848431</td>\n      <td>0.183814</td>\n      <td>-1.303743</td>\n      <td>1.539212</td>\n      <td>0.290445</td>\n    </tr>\n    <tr>\n      <th>5</th>\n      <th>one</th>\n      <td>-0.603260</td>\n      <td>-1.056425</td>\n      <td>-0.772950</td>\n      <td>-0.860758</td>\n      <td>0.144331</td>\n    </tr>\n    <tr>\n      <th>6</th>\n      <th>two</th>\n      <td>1.414039</td>\n      <td>0.994386</td>\n      <td>-0.827250</td>\n      <td>-0.499318</td>\n      <td>0.236633</td>\n    </tr>\n  </tbody>\n</table>\n</div>"
     },
     "metadata": {},
     "execution_count": 26
    }
   ],
   "source": [
    "key_list = ['one', 'one', 'one', 'two', 'two']\n",
    "people.groupby([len, key_list]).min()"
   ]
  },
  {
   "source": [
    "### 10.1.5 Grouping by Index Levels"
   ],
   "cell_type": "markdown",
   "metadata": {}
  },
  {
   "source": [
    "For hierarchically indexed datasets, you can aggregate using one of the levels of an axis index."
   ],
   "cell_type": "markdown",
   "metadata": {}
  },
  {
   "cell_type": "code",
   "execution_count": 27,
   "metadata": {},
   "outputs": [
    {
     "output_type": "execute_result",
     "data": {
      "text/plain": [
       "cty          US                            JP          \n",
       "tenor         1         3         5         1         3\n",
       "0      1.117567 -0.664845  1.286682 -0.246313  0.568480\n",
       "1      0.112494  0.338262 -0.116450  1.076455 -0.342323\n",
       "2      2.042780  1.671583 -2.392461 -1.917083  1.942340\n",
       "3      0.641837  1.026628  1.430207 -1.149399  0.693632"
      ],
      "text/html": "<div>\n<style scoped>\n    .dataframe tbody tr th:only-of-type {\n        vertical-align: middle;\n    }\n\n    .dataframe tbody tr th {\n        vertical-align: top;\n    }\n\n    .dataframe thead tr th {\n        text-align: left;\n    }\n</style>\n<table border=\"1\" class=\"dataframe\">\n  <thead>\n    <tr>\n      <th>cty</th>\n      <th colspan=\"3\" halign=\"left\">US</th>\n      <th colspan=\"2\" halign=\"left\">JP</th>\n    </tr>\n    <tr>\n      <th>tenor</th>\n      <th>1</th>\n      <th>3</th>\n      <th>5</th>\n      <th>1</th>\n      <th>3</th>\n    </tr>\n  </thead>\n  <tbody>\n    <tr>\n      <th>0</th>\n      <td>1.117567</td>\n      <td>-0.664845</td>\n      <td>1.286682</td>\n      <td>-0.246313</td>\n      <td>0.568480</td>\n    </tr>\n    <tr>\n      <th>1</th>\n      <td>0.112494</td>\n      <td>0.338262</td>\n      <td>-0.116450</td>\n      <td>1.076455</td>\n      <td>-0.342323</td>\n    </tr>\n    <tr>\n      <th>2</th>\n      <td>2.042780</td>\n      <td>1.671583</td>\n      <td>-2.392461</td>\n      <td>-1.917083</td>\n      <td>1.942340</td>\n    </tr>\n    <tr>\n      <th>3</th>\n      <td>0.641837</td>\n      <td>1.026628</td>\n      <td>1.430207</td>\n      <td>-1.149399</td>\n      <td>0.693632</td>\n    </tr>\n  </tbody>\n</table>\n</div>"
     },
     "metadata": {},
     "execution_count": 27
    }
   ],
   "source": [
    "columns = pd.MultiIndex.from_arrays([['US', 'US', 'US', 'JP', 'JP'],\n",
    "                                    [1, 3, 5, 1, 3]],\n",
    "                                    names=['cty', 'tenor'])\n",
    "hier_df = pd.DataFrame(np.random.randn(4, 5), columns=columns)\n",
    "hier_df"
   ]
  },
  {
   "source": [
    "To group by level, pass the level number or name using `level`."
   ],
   "cell_type": "markdown",
   "metadata": {}
  },
  {
   "cell_type": "code",
   "execution_count": 28,
   "metadata": {},
   "outputs": [
    {
     "output_type": "execute_result",
     "data": {
      "text/plain": [
       "cty  JP  US\n",
       "0     2   3\n",
       "1     2   3\n",
       "2     2   3\n",
       "3     2   3"
      ],
      "text/html": "<div>\n<style scoped>\n    .dataframe tbody tr th:only-of-type {\n        vertical-align: middle;\n    }\n\n    .dataframe tbody tr th {\n        vertical-align: top;\n    }\n\n    .dataframe thead th {\n        text-align: right;\n    }\n</style>\n<table border=\"1\" class=\"dataframe\">\n  <thead>\n    <tr style=\"text-align: right;\">\n      <th>cty</th>\n      <th>JP</th>\n      <th>US</th>\n    </tr>\n  </thead>\n  <tbody>\n    <tr>\n      <th>0</th>\n      <td>2</td>\n      <td>3</td>\n    </tr>\n    <tr>\n      <th>1</th>\n      <td>2</td>\n      <td>3</td>\n    </tr>\n    <tr>\n      <th>2</th>\n      <td>2</td>\n      <td>3</td>\n    </tr>\n    <tr>\n      <th>3</th>\n      <td>2</td>\n      <td>3</td>\n    </tr>\n  </tbody>\n</table>\n</div>"
     },
     "metadata": {},
     "execution_count": 28
    }
   ],
   "source": [
    "hier_df.groupby(level='cty', axis=1).count()"
   ]
  },
  {
   "source": [
    "## 10.2 Data Aggregation"
   ],
   "cell_type": "markdown",
   "metadata": {}
  },
  {
   "source": [
    "### 10.2.1 Column-Wise and Mutiple Function Application"
   ],
   "cell_type": "markdown",
   "metadata": {}
  },
  {
   "source": [
    "### 10.2.2 Returning Aggregated Data Without Row Indexes"
   ],
   "cell_type": "markdown",
   "metadata": {}
  },
  {
   "source": [
    "## 10.3 Apply: General split-apply-combine"
   ],
   "cell_type": "markdown",
   "metadata": {}
  },
  {
   "source": [
    "### 10.3.1 Suppressing the Group Keys"
   ],
   "cell_type": "markdown",
   "metadata": {}
  },
  {
   "source": [
    "### 10.3.2 Quantile and Bucket Analysis"
   ],
   "cell_type": "markdown",
   "metadata": {}
  },
  {
   "source": [
    "### 10.3.3 Example: Filling Missing Values with Group-Specific Values"
   ],
   "cell_type": "markdown",
   "metadata": {}
  },
  {
   "source": [
    "### 10.3.4 Example: Random Sampling and Permutation"
   ],
   "cell_type": "markdown",
   "metadata": {}
  },
  {
   "source": [
    "### 10.3.5 Example: Group Weighted Average and Correlation"
   ],
   "cell_type": "markdown",
   "metadata": {}
  },
  {
   "source": [
    "### 10.3.6 Example: Group-Wise Linear Regression"
   ],
   "cell_type": "markdown",
   "metadata": {}
  },
  {
   "source": [
    "## 10.4 Pivot Tables and Cross-Tabulation"
   ],
   "cell_type": "markdown",
   "metadata": {}
  },
  {
   "source": [
    "### 10.4.1 Cross-Tabulations: Crosstab"
   ],
   "cell_type": "markdown",
   "metadata": {}
  },
  {
   "source": [
    "## 10.5"
   ],
   "cell_type": "markdown",
   "metadata": {}
  }
 ]
}