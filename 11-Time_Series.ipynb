{
 "metadata": {
  "language_info": {
   "codemirror_mode": {
    "name": "ipython",
    "version": 3
   },
   "file_extension": ".py",
   "mimetype": "text/x-python",
   "name": "python",
   "nbconvert_exporter": "python",
   "pygments_lexer": "ipython3",
   "version": "3.9.0-final"
  },
  "orig_nbformat": 2,
  "kernelspec": {
   "name": "python3",
   "display_name": "Python 3.9.0 64-bit ('venv')",
   "metadata": {
    "interpreter": {
     "hash": "8d6faf25cd24bbb49471387e3b8691af44f528748ba9deb66223da25a6b13d3f"
    }
   }
  }
 },
 "nbformat": 4,
 "nbformat_minor": 2,
 "cells": [
  {
   "source": [
    "# Chapter 11: Time Series"
   ],
   "cell_type": "markdown",
   "metadata": {}
  },
  {
   "source": [
    "## 11.1 Date and Time Data Types and Tools"
   ],
   "cell_type": "markdown",
   "metadata": {}
  },
  {
   "source": [
    "### 11.1.1 Converting Between String and Datetime"
   ],
   "cell_type": "markdown",
   "metadata": {}
  },
  {
   "source": [
    "## 11.2 Time Series Basics"
   ],
   "cell_type": "markdown",
   "metadata": {}
  },
  {
   "source": [
    "### 11.2.1 Indexing, Selection, Subsetting"
   ],
   "cell_type": "markdown",
   "metadata": {}
  },
  {
   "source": [
    "### 11.2.2 Time Series with Duplicate Indices"
   ],
   "cell_type": "markdown",
   "metadata": {}
  },
  {
   "source": [
    "## 11.3 Date Ranges, Frequencies, and Shifting"
   ],
   "cell_type": "markdown",
   "metadata": {}
  },
  {
   "source": [
    "### 11.3.1 Generating Date Ranges"
   ],
   "cell_type": "markdown",
   "metadata": {}
  },
  {
   "source": [
    "### 11.3.2 Frequencies and Date Offsets"
   ],
   "cell_type": "markdown",
   "metadata": {}
  },
  {
   "source": [
    "### 11.3.3 Shifting (Leading and Lagging) Data"
   ],
   "cell_type": "markdown",
   "metadata": {}
  },
  {
   "source": [
    "## 11.4 Time Zone Handling"
   ],
   "cell_type": "markdown",
   "metadata": {}
  },
  {
   "source": [
    "### 11.4.1 Time Zone Localization and Conversion"
   ],
   "cell_type": "markdown",
   "metadata": {}
  },
  {
   "source": [
    "### 11.4.2 Operations with Time Zone-Aware Timestamp Objects"
   ],
   "cell_type": "markdown",
   "metadata": {}
  },
  {
   "source": [
    "### 11.4.3 Operations Between Different Time Zones"
   ],
   "cell_type": "markdown",
   "metadata": {}
  },
  {
   "source": [
    "## 11.5 Periods and Period Arithmetic"
   ],
   "cell_type": "markdown",
   "metadata": {}
  },
  {
   "source": [
    "### 11.5.1 Period Frequency Conversion"
   ],
   "cell_type": "markdown",
   "metadata": {}
  },
  {
   "source": [
    "### 11.5.2 Quarterly Period Frequencies"
   ],
   "cell_type": "markdown",
   "metadata": {}
  },
  {
   "source": [
    "### 11.5.3 Converting Timestamps to Periods (and Back)"
   ],
   "cell_type": "markdown",
   "metadata": {}
  },
  {
   "source": [
    "### 11.5.4 Creating a PeriodIndex from Arrays"
   ],
   "cell_type": "markdown",
   "metadata": {}
  },
  {
   "source": [
    "## 11.6 Resampling and Frequency Conversion"
   ],
   "cell_type": "markdown",
   "metadata": {}
  },
  {
   "source": [
    "### 11.6.1 Downsampling"
   ],
   "cell_type": "markdown",
   "metadata": {}
  },
  {
   "source": [
    "### 11.6.2 Upsampling and Interpolation"
   ],
   "cell_type": "markdown",
   "metadata": {}
  },
  {
   "source": [
    "### 11.6.3 Resampling with Periods"
   ],
   "cell_type": "markdown",
   "metadata": {}
  },
  {
   "source": [
    "## 11.7 Moving Window Functions"
   ],
   "cell_type": "markdown",
   "metadata": {}
  },
  {
   "source": [
    "### 11.7.1 Exponentially Weighted Functions"
   ],
   "cell_type": "markdown",
   "metadata": {}
  },
  {
   "source": [
    "### 11.7.2 Binary Moving Window Functions"
   ],
   "cell_type": "markdown",
   "metadata": {}
  },
  {
   "source": [
    "### 11.7.3 User-Defined Moving Window Functions"
   ],
   "cell_type": "markdown",
   "metadata": {}
  },
  {
   "source": [
    "## 11.8 Conclusion"
   ],
   "cell_type": "markdown",
   "metadata": {}
  }
 ]
}